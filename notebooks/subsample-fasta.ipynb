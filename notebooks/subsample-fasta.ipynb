{
 "cells": [
  {
   "cell_type": "code",
   "execution_count": 1,
   "metadata": {},
   "outputs": [],
   "source": [
    "from Bio import SeqIO\n",
    "from tqdm import tqdm"
   ]
  },
  {
   "cell_type": "code",
   "execution_count": 10,
   "metadata": {},
   "outputs": [
    {
     "name": "stderr",
     "output_type": "stream",
     "text": [
      "100%|██████████| 1000/1000 [00:00<00:00, 2398.53it/s]\n"
     ]
    }
   ],
   "source": [
    "clade = \"G\"\n",
    "path_fasta=f\"../data/clade_{clade}.fasta\"\n",
    "to_save = []\n",
    "count = 0\n",
    "seqids = set()\n",
    "N = 1000\n",
    "FROM = 10000\n",
    "pbar = tqdm(total=N)\n",
    "\n",
    "nfile = 0 # to track sequence in the fasta file\n",
    "for record in SeqIO.parse(path_fasta, format=\"fasta\"):\n",
    "    \n",
    "    if nfile < FROM:\n",
    "        nfile +=1\n",
    "        continue\n",
    "    \n",
    "    if record.id not in seqids:\n",
    "        to_save.append(record)\n",
    "        count += 1\n",
    "        seqids.add(record.id)\n",
    "        pbar.update(1)\n",
    "        nfile +=1\n",
    "    if count >= N: break\n",
    "pbar.close()"
   ]
  },
  {
   "cell_type": "code",
   "execution_count": 11,
   "metadata": {},
   "outputs": [
    {
     "data": {
      "text/plain": [
       "1000"
      ]
     },
     "execution_count": 11,
     "metadata": {},
     "output_type": "execute_result"
    }
   ],
   "source": [
    "SeqIO.write(to_save, f\"../data/test-clade_{clade}.fasta\", format=\"fasta\")"
   ]
  },
  {
   "cell_type": "code",
   "execution_count": 12,
   "metadata": {},
   "outputs": [
    {
     "data": {
      "text/plain": [
       "11000"
      ]
     },
     "execution_count": 12,
     "metadata": {},
     "output_type": "execute_result"
    }
   ],
   "source": [
    "nfile"
   ]
  },
  {
   "cell_type": "code",
   "execution_count": null,
   "metadata": {},
   "outputs": [],
   "source": []
  }
 ],
 "metadata": {
  "kernelspec": {
   "display_name": "gnn",
   "language": "python",
   "name": "python3"
  },
  "language_info": {
   "codemirror_mode": {
    "name": "ipython",
    "version": 3
   },
   "file_extension": ".py",
   "mimetype": "text/x-python",
   "name": "python",
   "nbconvert_exporter": "python",
   "pygments_lexer": "ipython3",
   "version": "3.11.9"
  }
 },
 "nbformat": 4,
 "nbformat_minor": 2
}
