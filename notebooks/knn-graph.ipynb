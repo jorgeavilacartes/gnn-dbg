{
 "cells": [
  {
   "cell_type": "markdown",
   "metadata": {},
   "source": [
    "## Construir kNN graph para un audio"
   ]
  },
  {
   "cell_type": "code",
   "execution_count": null,
   "metadata": {},
   "outputs": [],
   "source": [
    "import matplotlib.pyplot as plt\n",
    "import numpy as np\n",
    "import networkx as nx \n",
    "import pandas as pd \n",
    "\n",
    "from pathlib import Path\n",
    "from sklearn.neighbors import kneighbors_graph"
   ]
  },
  {
   "cell_type": "code",
   "execution_count": null,
   "metadata": {},
   "outputs": [],
   "source": [
    "path_data = Path(\"directorio/con/parquet\")"
   ]
  },
  {
   "cell_type": "code",
   "execution_count": null,
   "metadata": {},
   "outputs": [],
   "source": [
    "labels = pd.read_parquet(\n",
    "            path_data.joinpath(\"Deteccion-Fauna-P1_ECP_IV-test.parquet\")\n",
    ")\n",
    "len(labels.audio.unique())"
   ]
  },
  {
   "cell_type": "code",
   "execution_count": null,
   "metadata": {},
   "outputs": [],
   "source": [
    "fauna_by_audio = labels.groupby(\"audio\")[\"fauna\"].agg(sum)\n",
    "fauna_by_audio[fauna_by_audio > 0].sort_values(ascending=False)"
   ]
  },
  {
   "cell_type": "code",
   "execution_count": null,
   "metadata": {},
   "outputs": [],
   "source": [
    "data = pd.read_parquet(\n",
    "            path_data.joinpath(\"Embeddings-P1_ECP_IV-test.parquet\")\n",
    ")\n",
    "data.head()"
   ]
  },
  {
   "cell_type": "code",
   "execution_count": null,
   "metadata": {},
   "outputs": [],
   "source": [
    "emb, metadata = data[:][data.columns[:1024]].to_numpy(), data[:][[\"audio\",\"canal\",\"fecha\",\"tiempo\"]]\n",
    "list_audios = list(metadata.audio.unique())"
   ]
  },
  {
   "cell_type": "code",
   "execution_count": null,
   "metadata": {},
   "outputs": [],
   "source": [
    "name_audio = \"1687978462.8386_1687978522.8387.wav\" # El con mas etiquetas de fauna: 9\n",
    "num_audio = list_audios.index(name_audio)\n",
    "idx_audio  = metadata[metadata.audio == list_audios[num_audio]].index\n",
    "emb_audio  = emb[idx_audio.to_numpy(),:]"
   ]
  },
  {
   "cell_type": "markdown",
   "metadata": {},
   "source": [
    "Crear kNN graph"
   ]
  },
  {
   "cell_type": "code",
   "execution_count": null,
   "metadata": {},
   "outputs": [],
   "source": [
    "A = kneighbors_graph(emb_audio, n_neighbors=3)\n",
    "n_nodes = A.toarray().shape[0]"
   ]
  },
  {
   "cell_type": "markdown",
   "metadata": {},
   "source": [
    "Graficar"
   ]
  },
  {
   "cell_type": "code",
   "execution_count": null,
   "metadata": {},
   "outputs": [],
   "source": [
    "rows,cols=np.where(A.toarray()==1)  # A.toarray() da la matriz de adyacencia\n",
    "edges = [[r,c] for r,c in zip(rows,cols)]"
   ]
  },
  {
   "cell_type": "code",
   "execution_count": null,
   "metadata": {},
   "outputs": [],
   "source": [
    "G = nx.Graph()\n",
    "G.add_edges_from(edges)\n",
    "print(G)"
   ]
  },
  {
   "cell_type": "code",
   "execution_count": null,
   "metadata": {},
   "outputs": [],
   "source": [
    "## Plot\n",
    "node_labels = list(labels.fauna[idx_audio.to_numpy()]) # etiquetas de los nodos (para colorear grafo)\n",
    "pos_layout = nx.spring_layout(G, iterations=1000)\n",
    "\n",
    "fig, ax= plt.subplots(1,1,figsize=(14,8),dpi=100)\n",
    "nx.draw_networkx(   \n",
    "    G, \n",
    "    pos=pos_layout,\n",
    "    node_color = node_labels,  \n",
    "    node_size=200,\n",
    "    alpha=0.8,\n",
    "    )"
   ]
  },
  {
   "cell_type": "code",
   "execution_count": null,
   "metadata": {},
   "outputs": [],
   "source": []
  }
 ],
 "metadata": {
  "kernelspec": {
   "display_name": "pyg",
   "language": "python",
   "name": "python3"
  },
  "language_info": {
   "codemirror_mode": {
    "name": "ipython",
    "version": 3
   },
   "file_extension": ".py",
   "mimetype": "text/x-python",
   "name": "python",
   "nbconvert_exporter": "python",
   "pygments_lexer": "ipython3",
   "version": "3.11.9"
  }
 },
 "nbformat": 4,
 "nbformat_minor": 2
}
