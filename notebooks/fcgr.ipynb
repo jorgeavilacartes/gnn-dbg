{
 "cells": [
  {
   "cell_type": "markdown",
   "metadata": {},
   "source": [
    "## Create FCGR from fasta files"
   ]
  },
  {
   "cell_type": "code",
   "execution_count": 5,
   "metadata": {},
   "outputs": [],
   "source": [
    "import numpy as np \n",
    "\n",
    "from Bio import SeqIO\n",
    "from complexcgr import FCGR\n",
    "from pathlib import Path\n",
    "\n",
    "KMER = 6\n",
    "fcgr = FCGR(k=KMER)"
   ]
  },
  {
   "cell_type": "code",
   "execution_count": 6,
   "metadata": {},
   "outputs": [],
   "source": [
    "path_fasta = \"../data/subsample-random.fasta\"\n",
    "path_save = Path(f\"../data/fcgr/{KMER}mer/subsample-random\")\n",
    "path_save.mkdir(exist_ok=True, parents=True)\n",
    "\n",
    "idx = 0\n",
    "for record in SeqIO.parse(path_fasta, format=\"fasta\"):\n",
    "    \n",
    "    chaos = fcgr(record.seq)\n",
    "    np.save(path_save.joinpath(f\"fcgr-{idx}\"), arr=chaos)\n",
    "    idx += 1"
   ]
  },
  {
   "cell_type": "code",
   "execution_count": 10,
   "metadata": {},
   "outputs": [],
   "source": [
    "def preprocessing(seq):\n",
    "    seq = seq.upper()\n",
    "    for letter in \"BDEFHIJKLMOPQRSUVWXYZ\":\n",
    "        seq = seq.replace(letter,\"N\")\n",
    "    return seq"
   ]
  },
  {
   "cell_type": "code",
   "execution_count": 11,
   "metadata": {},
   "outputs": [],
   "source": [
    "path_fasta = \"../data/subsample-clade_G.fasta\"\n",
    "path_save = Path(f\"../data/fcgr/{KMER}mer/subsample-clade_G\")\n",
    "path_save.mkdir(exist_ok=True, parents=True)\n",
    "\n",
    "idx = 0\n",
    "for record in SeqIO.parse(path_fasta, format=\"fasta\"):\n",
    "    \n",
    "    seq = preprocessing(record.seq)\n",
    "    chaos = fcgr(seq)\n",
    "    np.save(path_save.joinpath(f\"fcgr-{idx}\"), arr=chaos)\n",
    "    idx += 1"
   ]
  }
 ],
 "metadata": {
  "kernelspec": {
   "display_name": "gnn",
   "language": "python",
   "name": "python3"
  },
  "language_info": {
   "codemirror_mode": {
    "name": "ipython",
    "version": 3
   },
   "file_extension": ".py",
   "mimetype": "text/x-python",
   "name": "python",
   "nbconvert_exporter": "python",
   "pygments_lexer": "ipython3",
   "version": "3.10.14"
  }
 },
 "nbformat": 4,
 "nbformat_minor": 2
}
