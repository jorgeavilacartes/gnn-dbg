{
 "cells": [
  {
   "cell_type": "markdown",
   "metadata": {},
   "source": [
    "## Create FCGR from fasta files"
   ]
  },
  {
   "cell_type": "code",
   "execution_count": 25,
   "metadata": {},
   "outputs": [],
   "source": [
    "import numpy as np \n",
    "from tqdm import tqdm \n",
    "from Bio import SeqIO\n",
    "from collections import namedtuple\n",
    "from complexcgr import FCGR\n",
    "from pathlib import Path\n",
    "\n",
    "KMER = 8\n",
    "N = 1000\n",
    "fcgr = FCGR(k=KMER)"
   ]
  },
  {
   "cell_type": "code",
   "execution_count": 26,
   "metadata": {},
   "outputs": [],
   "source": [
    "def preprocessing(seq):\n",
    "    seq = seq.upper()\n",
    "    for letter in \"BDEFHIJKLMOPQRSUVWXYZ\":\n",
    "        seq = seq.replace(letter,\"N\")\n",
    "    return seq"
   ]
  },
  {
   "cell_type": "code",
   "execution_count": 27,
   "metadata": {},
   "outputs": [
    {
     "name": "stderr",
     "output_type": "stream",
     "text": [
      "100%|██████████| 1000/1000 [00:24<00:00, 40.77it/s]\n"
     ]
    }
   ],
   "source": [
    "path_fasta = \"../data/test-random.fasta\"\n",
    "path_save = Path(f\"../data/fcgr-test/{KMER}mer/test-random\")\n",
    "path_save.mkdir(exist_ok=True, parents=True)\n",
    "\n",
    "idx = 0\n",
    "for record in tqdm(SeqIO.parse(path_fasta, format=\"fasta\"), total=N):\n",
    "    \n",
    "    chaos = fcgr(record.seq)\n",
    "    np.save(path_save.joinpath(f\"{record.id}.npy\"), arr=chaos)\n",
    "    idx += 1"
   ]
  },
  {
   "cell_type": "code",
   "execution_count": 28,
   "metadata": {},
   "outputs": [
    {
     "name": "stderr",
     "output_type": "stream",
     "text": [
      "clade-G: 100%|██████████| 1000/1000 [00:32<00:00, 31.16it/s]\n",
      "clade-S: 100%|██████████| 1000/1000 [00:49<00:00, 20.28it/s]\n",
      "clade-O: 100%|██████████| 1000/1000 [00:15<00:00, 65.11it/s]\n"
     ]
    }
   ],
   "source": [
    "import pandas as pd\n",
    "Seq = namedtuple(\"Seq\",[\"id\",\"name\"])\n",
    "\n",
    "for clade in [\"G\",\"S\",\"O\"]:\n",
    "    path_fasta = f\"../data/test-clade_{clade}.fasta\"\n",
    "    path_save = Path(f\"../data/fcgr-test/{KMER}mer/test-clade_{clade}\")\n",
    "    path_save.mkdir(exist_ok=True, parents=True)\n",
    "\n",
    "    info_seqs = []\n",
    "    idx = 0\n",
    "    for record in tqdm(SeqIO.parse(path_fasta, format=\"fasta\"),total=N, desc=f\"clade-{clade}\"):\n",
    "        \n",
    "        seq = preprocessing(record.seq)\n",
    "        chaos = fcgr(seq)\n",
    "        np.save(path_save.joinpath(f\"seq_{idx}.npy\"), arr=chaos)\n",
    "        info_seqs.append(Seq(record.id, f\"seq_{idx}\"))\n",
    "        idx += 1\n",
    "\n",
    "    pd.DataFrame(info_seqs).to_csv(path_save.parent.joinpath(f\"fcgr-test-clade_{clade}.csv\"), sep=\"\\t\")"
   ]
  },
  {
   "cell_type": "code",
   "execution_count": null,
   "metadata": {},
   "outputs": [],
   "source": []
  }
 ],
 "metadata": {
  "kernelspec": {
   "display_name": "gnn",
   "language": "python",
   "name": "python3"
  },
  "language_info": {
   "codemirror_mode": {
    "name": "ipython",
    "version": 3
   },
   "file_extension": ".py",
   "mimetype": "text/x-python",
   "name": "python",
   "nbconvert_exporter": "python",
   "pygments_lexer": "ipython3",
   "version": "3.10.14"
  }
 },
 "nbformat": 4,
 "nbformat_minor": 2
}
