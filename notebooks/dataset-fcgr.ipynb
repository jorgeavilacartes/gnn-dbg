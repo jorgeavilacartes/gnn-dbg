{
 "cells": [
  {
   "cell_type": "code",
   "execution_count": 1,
   "metadata": {},
   "outputs": [
    {
     "name": "stdout",
     "output_type": "stream",
     "text": [
      "cuda:0\n"
     ]
    }
   ],
   "source": [
    "import os\n",
    "import numpy as np\n",
    "from pathlib import Path\n",
    "\n",
    "import torch\n",
    "from torch.utils.data import DataLoader\n",
    "\n",
    "device = torch.device(\"cuda:0\" if torch.cuda.is_available() else \"cpu\")\n",
    "print(device)\n"
   ]
  },
  {
   "cell_type": "code",
   "execution_count": 2,
   "metadata": {},
   "outputs": [],
   "source": [
    "import sys; sys.path.append(\"..\")\n",
    "from src.datasets.fcgr import FCGRDataset"
   ]
  },
  {
   "cell_type": "code",
   "execution_count": 4,
   "metadata": {},
   "outputs": [],
   "source": [
    "fcgr_dataset = FCGRDataset(fcgr_dir=\"../data/fcgr/6mer\")"
   ]
  },
  {
   "cell_type": "code",
   "execution_count": 5,
   "metadata": {},
   "outputs": [],
   "source": [
    "train_dataloader = DataLoader(fcgr_dataset, batch_size=32, shuffle=True)"
   ]
  },
  {
   "cell_type": "code",
   "execution_count": 6,
   "metadata": {},
   "outputs": [],
   "source": [
    "t_fcgr, t_label = next(iter(train_dataloader))"
   ]
  },
  {
   "cell_type": "markdown",
   "metadata": {},
   "source": [
    "### Convolutional Neural network \n"
   ]
  },
  {
   "cell_type": "code",
   "execution_count": 7,
   "metadata": {},
   "outputs": [
    {
     "name": "stdout",
     "output_type": "stream",
     "text": [
      "CNNFCGR(\n",
      "  (cnn1): Conv2d(1, 24, kernel_size=(2, 2), stride=(2, 2), bias=False)\n",
      "  (cnn2): Conv2d(24, 20, kernel_size=(2, 2), stride=(2, 2), bias=False)\n",
      "  (cnn3): Conv2d(20, 16, kernel_size=(2, 2), stride=(2, 2), bias=False)\n",
      "  (flatten): Flatten(start_dim=1, end_dim=-1)\n",
      "  (dense): Linear(in_features=1024, out_features=2, bias=True)\n",
      ")\n"
     ]
    }
   ],
   "source": [
    "from src.models.cnn import CNNFCGR\n",
    "\n",
    "model = CNNFCGR(num_classes=2, kmer=6).to(torch.float32)\n",
    "# model = CNNFCGR(num_classes=2)\n",
    "model.to(device)\n",
    "print(model)"
   ]
  },
  {
   "cell_type": "code",
   "execution_count": 8,
   "metadata": {},
   "outputs": [],
   "source": [
    "# import torch\n",
    "\n",
    "# class CNNFCGR6(torch.nn.Module):\n",
    "#     def __init__(self, num_classes):\n",
    "#         super().__init__()\n",
    "#         self.cnn1 = torch.nn.Conv2d(in_channels=1, out_channels=4*6, kernel_size=2, stride=2, padding=0, bias=False)\n",
    "#         self.cnn2 = torch.nn.Conv2d(in_channels=4*6, out_channels=4*5, kernel_size=2, stride=2, padding=0, bias=False)\n",
    "#         self.cnn3 = torch.nn.Conv2d(in_channels=4*5, out_channels=4*4, kernel_size=2, stride=2, padding=0, bias=False)\n",
    "#         self.flatten = torch.nn.Flatten()\n",
    "#         self.dense = torch.nn.Linear(in_features=4*4*64, out_features=num_classes)\n",
    "\n",
    "#     def forward(self, x):\n",
    "#         x = self.cnn1(x)\n",
    "#         x = self.cnn2(x)\n",
    "#         x = self.cnn3(x)\n",
    "#         x = self.flatten(x)\n",
    "#         x = self.dense(x)\n",
    "#         return x"
   ]
  },
  {
   "cell_type": "code",
   "execution_count": 28,
   "metadata": {},
   "outputs": [
    {
     "name": "stdout",
     "output_type": "stream",
     "text": [
      "Epoch: 000, Loss: 0.0000\n",
      "Epoch: 001, Loss: 0.0000\n",
      "Epoch: 002, Loss: 0.0000\n",
      "Epoch: 003, Loss: 0.0000\n",
      "Epoch: 004, Loss: 0.0000\n",
      "Epoch: 005, Loss: 0.0000\n",
      "Epoch: 006, Loss: 0.0000\n",
      "Epoch: 007, Loss: 0.0000\n",
      "Epoch: 008, Loss: 0.0000\n",
      "Epoch: 009, Loss: 0.0000\n"
     ]
    }
   ],
   "source": [
    "optimizer = torch.optim.Adam(model.parameters(), lr=0.01)\n",
    "criterion = torch.nn.CrossEntropyLoss()\n",
    "\n",
    "for epoch in range(10):\n",
    "    lloss = []\n",
    "    for data in train_dataloader:\n",
    "        X, y = data\n",
    "        X, y = X.to(device), y.to(device)\n",
    "        out = model(X)  # Perform a single forward pass.\n",
    "        # out = F.softmax(out, dim=-1)\n",
    "        loss = criterion(out, y)  # Compute the loss.\n",
    "        loss.backward()  # Derive gradients.\n",
    "        # for name, param in model.named_parameters():\n",
    "        #     print(name, param.grad)\n",
    "        optimizer.step()  # Update parameters based on gradients.\n",
    "        optimizer.zero_grad()  # Clear gradients.\n",
    "        \n",
    "        lloss.append(loss.cpu().detach().numpy())\n",
    "\n",
    "    m_loss = np.array(lloss).mean()\n",
    "\n",
    "    lloss.append(loss.cpu().detach().numpy())\n",
    "    print(f'Epoch: {epoch:03d}, Loss: {m_loss:.4f}') \n"
   ]
  },
  {
   "cell_type": "code",
   "execution_count": 27,
   "metadata": {},
   "outputs": [
    {
     "data": {
      "text/plain": [
       "tensor([[-153.3554,  150.3477],\n",
       "        [-158.1566,  155.3517],\n",
       "        [-167.3681,  164.4639],\n",
       "        [-157.2388,  155.6577],\n",
       "        [-150.2856,  146.6098],\n",
       "        [-156.0771,  153.2131],\n",
       "        [-151.7421,  148.1100],\n",
       "        [-150.0620,  146.7478],\n",
       "        [-148.3430,  144.8603],\n",
       "        [ 520.5497, -499.3188],\n",
       "        [ 696.8740, -667.1464],\n",
       "        [-155.3554,  152.5753],\n",
       "        [-151.6531,  149.1301],\n",
       "        [  56.8054,  -53.7015],\n",
       "        [  23.1898,  -21.6798],\n",
       "        [ 688.0294, -658.2831]], device='cuda:0', grad_fn=<AddmmBackward0>)"
      ]
     },
     "execution_count": 27,
     "metadata": {},
     "output_type": "execute_result"
    }
   ],
   "source": [
    "out"
   ]
  },
  {
   "cell_type": "code",
   "execution_count": 26,
   "metadata": {},
   "outputs": [
    {
     "data": {
      "text/plain": [
       "tensor([[0.0000e+00, 1.0000e+00],\n",
       "        [0.0000e+00, 1.0000e+00],\n",
       "        [0.0000e+00, 1.0000e+00],\n",
       "        [0.0000e+00, 1.0000e+00],\n",
       "        [0.0000e+00, 1.0000e+00],\n",
       "        [0.0000e+00, 1.0000e+00],\n",
       "        [0.0000e+00, 1.0000e+00],\n",
       "        [0.0000e+00, 1.0000e+00],\n",
       "        [0.0000e+00, 1.0000e+00],\n",
       "        [1.0000e+00, 0.0000e+00],\n",
       "        [1.0000e+00, 0.0000e+00],\n",
       "        [0.0000e+00, 1.0000e+00],\n",
       "        [0.0000e+00, 1.0000e+00],\n",
       "        [1.0000e+00, 0.0000e+00],\n",
       "        [1.0000e+00, 3.2614e-20],\n",
       "        [1.0000e+00, 0.0000e+00]], device='cuda:0', grad_fn=<SoftmaxBackward0>)"
      ]
     },
     "execution_count": 26,
     "metadata": {},
     "output_type": "execute_result"
    }
   ],
   "source": [
    "torch.nn.Softmax()(out)"
   ]
  },
  {
   "cell_type": "code",
   "execution_count": 24,
   "metadata": {},
   "outputs": [
    {
     "data": {
      "text/plain": [
       "tensor([1, 1, 1, 1, 1, 1, 1, 1, 1, 0, 0, 1, 1, 0, 0, 0], device='cuda:0')"
      ]
     },
     "execution_count": 24,
     "metadata": {},
     "output_type": "execute_result"
    }
   ],
   "source": [
    "torch.nn.Softmax()(out).argmax(axis=1)"
   ]
  },
  {
   "cell_type": "code",
   "execution_count": 25,
   "metadata": {},
   "outputs": [
    {
     "data": {
      "text/plain": [
       "tensor([1, 1, 1, 1, 1, 1, 1, 1, 1, 0, 0, 1, 1, 0, 0, 0], device='cuda:0')"
      ]
     },
     "execution_count": 25,
     "metadata": {},
     "output_type": "execute_result"
    }
   ],
   "source": [
    "y"
   ]
  },
  {
   "cell_type": "code",
   "execution_count": null,
   "metadata": {},
   "outputs": [],
   "source": []
  }
 ],
 "metadata": {
  "kernelspec": {
   "display_name": "gnn",
   "language": "python",
   "name": "python3"
  },
  "language_info": {
   "codemirror_mode": {
    "name": "ipython",
    "version": 3
   },
   "file_extension": ".py",
   "mimetype": "text/x-python",
   "name": "python",
   "nbconvert_exporter": "python",
   "pygments_lexer": "ipython3",
   "version": "3.11.9"
  }
 },
 "nbformat": 4,
 "nbformat_minor": 2
}
